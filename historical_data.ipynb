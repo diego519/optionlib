{
 "cells": [
  {
   "cell_type": "markdown",
   "id": "538d48ef-af38-4024-8ee1-39bc6be41507",
   "metadata": {},
   "source": [
    "# Environment"
   ]
  },
  {
   "cell_type": "code",
   "execution_count": 3,
   "id": "53e2e01f-924f-4cd2-830e-6eb96bf01853",
   "metadata": {},
   "outputs": [],
   "source": [
    "from optionlib.data import ticker, prices, earnings\n",
    "from optionlib import *"
   ]
  },
  {
   "cell_type": "code",
   "execution_count": 4,
   "id": "963a9252-bb1b-42ec-97b3-121d9dc22498",
   "metadata": {},
   "outputs": [],
   "source": [
    "import os\n",
    "import pandas as pd\n",
    "import numpy as np\n",
    "from scipy.stats import norm\n",
    "from scipy.optimize import minimize_scalar   \n",
    "import datetime as dt\n",
    "from joblib import Parallel, delayed\n",
    "from plotly import express as px"
   ]
  },
  {
   "cell_type": "markdown",
   "id": "66272f58-dda8-4263-b874-59c922751fdd",
   "metadata": {
    "tags": []
   },
   "source": [
    "# Raw data CSV to parquet conversion"
   ]
  },
  {
   "cell_type": "markdown",
   "id": "e5e44903-ea02-4007-a18e-12519115d894",
   "metadata": {},
   "source": [
    "## Option chain"
   ]
  },
  {
   "cell_type": "code",
   "execution_count": 7,
   "id": "691f6354-4138-411a-b7c3-c7dd972e1b78",
   "metadata": {},
   "outputs": [
    {
     "name": "stdout",
     "output_type": "stream",
     "text": [
      "CPU times: user 8min 13s, sys: 1min 43s, total: 9min 56s\n",
      "Wall time: 10min 20s\n"
     ]
    }
   ],
   "source": [
    "%%time\n",
    "for d in range(2012,2025):\n",
    "    \n",
    "    files = [i for i in os.listdir('../CBOE raw data/order_000050203/item_000057965') if str(d) in i]\n",
    "    \n",
    "    pd.concat(\n",
    "        [pd.read_csv(f'../CBOE raw data/order_000050203/item_000057965/{f}',encoding='utf-8') for f in files]\n",
    "    ).assign(\n",
    "        quote_datetime = lambda x: pd.to_datetime(x.quote_datetime),\n",
    "        expiration = lambda x: pd.to_datetime(x.expiration).dt.date\n",
    "    ).to_parquet(f'../historical_data/spx_option_chain_historical_{d}.parquet')"
   ]
  },
  {
   "cell_type": "markdown",
   "id": "37476805-52fc-4ba4-b9c6-9750a456e010",
   "metadata": {},
   "source": [
    "## Price data"
   ]
  },
  {
   "cell_type": "code",
   "execution_count": 99,
   "id": "c77c440b-926f-41c7-a5e7-19bb284ea0e4",
   "metadata": {},
   "outputs": [],
   "source": [
    "prices_raw = pd.concat(\n",
    "    [pd.read_csv(f'../CBOE raw data/order_000050263/item_000058027/{f}') \n",
    "     for f in os.listdir('../CBOE raw data/order_000050263/item_000058027')]\n",
    ").to_parquet('../historical_data/spx_price_history.parquet')"
   ]
  },
  {
   "cell_type": "code",
   "execution_count": null,
   "id": "18702956-3873-4bf4-93dc-1f5745393dff",
   "metadata": {},
   "outputs": [],
   "source": [
    "tbill_1mo_url_csv = 'https://fred.stlouisfed.org/graph/fredgraph.csv?mode=fred&id=DGS1MO&vintage_date=2024-01-13&revision_date=2024-01-13&nd=1954-07-01'\n",
    "\n",
    "tbill = pd.read_csv(tbill_1mo_url_csv).rename(\n",
    "    columns={'DATE':'Date'}\n",
    ").assign(\n",
    "    Date = lambda x: pd.to_datetime(x.Date)\n",
    ").set_index('Date').replace('.',np.nan).astype(float).ffill()"
   ]
  },
  {
   "cell_type": "code",
   "execution_count": null,
   "id": "70ddb9c0-9dc0-417b-b27d-714d769e3641",
   "metadata": {},
   "outputs": [],
   "source": [
    "prices = prices.assign(\n",
    "    quote_datetime = lambda x: pd.to_datetime(x.quote_datetime),\n",
    "    Date = lambda x: x.quote_datetime.dt.date\n",
    ").set_index(['quote_datetime','Date'],drop = False).join(tbill)"
   ]
  },
  {
   "cell_type": "code",
   "execution_count": 148,
   "id": "f6e8b6ad-f0f3-41e5-8cd9-c57ea90d1b05",
   "metadata": {},
   "outputs": [],
   "source": [
    "prices.to_parquet('../historical_data/spx_price_history.parquet')"
   ]
  },
  {
   "cell_type": "markdown",
   "id": "ba8be28a-d5e6-4d56-9ac9-3fb74477dcbd",
   "metadata": {},
   "source": [
    "# Calculations"
   ]
  },
  {
   "cell_type": "markdown",
   "id": "a01af62a-edce-4318-8fb6-a0079b157111",
   "metadata": {},
   "source": [
    "## Implied volatility Black Scholes function"
   ]
  },
  {
   "cell_type": "code",
   "execution_count": 2,
   "id": "1fc732b2-2f6a-48b9-8b4a-0a4b0657e049",
   "metadata": {},
   "outputs": [],
   "source": [
    "N = norm.cdf\n",
    "\n",
    "def BS_CALL(S, K, T, r, sigma):\n",
    "    d1 = (np.log(S/K) + (r + sigma**2/2)*T) / (sigma*np.sqrt(T))\n",
    "    d2 = d1 - sigma * np.sqrt(T)\n",
    "    return S * N(d1) - K * np.exp(-r*T)* N(d2)\n",
    "\n",
    "def BS_PUT(S, K, T, r, sigma):\n",
    "    d1 = (np.log(S/K) + (r + sigma**2/2)*T) / (sigma*np.sqrt(T))\n",
    "    d2 = d1 - sigma* np.sqrt(T)\n",
    "    return K*np.exp(-r*T)*N(-d2) - S*N(-d1)    \n",
    "    \n",
    "\n",
    "def implied_vol(opt_value, S, K, T, r, type_='C'):\n",
    "    \n",
    "    def call_obj(sigma):\n",
    "        return abs(BS_CALL(S, K, T, r, sigma) - opt_value)\n",
    "    \n",
    "    def put_obj(sigma):\n",
    "        return abs(BS_PUT(S, K, T, r, sigma) - opt_value)\n",
    "    \n",
    "    if type_ == 'C':\n",
    "        res = minimize_scalar(call_obj, bounds=(0.01,6), method='bounded')\n",
    "        return res.x\n",
    "    elif type_ == 'P':\n",
    "        res = minimize_scalar(put_obj, bounds=(0.01,6),\n",
    "                              method='bounded')\n",
    "        return res.x\n",
    "    else:\n",
    "        raise ValueError(\"type_ must be 'put' or 'call'\")"
   ]
  },
  {
   "cell_type": "markdown",
   "id": "bd338b0a-74f0-4afa-add2-0d59d079a78c",
   "metadata": {},
   "source": [
    "## For a single year"
   ]
  },
  {
   "cell_type": "code",
   "execution_count": 5,
   "id": "696810fe-1449-4208-aa70-aa7607ad3707",
   "metadata": {},
   "outputs": [],
   "source": [
    "max_T = 30\n",
    "strike_window = 0.05\n",
    "\n",
    "oc_2024 = pd.read_parquet('../historical_data/spx_option_chain_historical_2024.parquet')\n",
    "prices = pd.read_parquet('../historical_data/spx_price_history.parquet')\n",
    "\n",
    "oc_2024 = oc_2024.assign(\n",
    "    quote_datetime = lambda x: pd.to_datetime(x.quote_datetime),\n",
    "    expiration = lambda x: pd.to_datetime(x.expiration) + np.timedelta64(975,'m'),\n",
    "    time_to_expiry = lambda x: (x.expiration - x.quote_datetime).div(np.timedelta64(1,'D')).astype(float),\n",
    "    bs_time = lambda x: x.time_to_expiry.div(365)\n",
    ").set_index(['quote_datetime','expiration','strike','option_type'],drop = False)\n",
    "\n",
    "oc_2024 = oc_2024.join(prices.rename(columns = {'close':'SPX_open'})[['SPX_open','DGS1MO']])\n",
    "\n",
    "oc_2024_filtered = oc_2024.loc[\n",
    "    lambda x: x.open.gt(0)\n",
    "    & x.bs_time.gt(0)\n",
    "    & x.time_to_expiry.le(7)\n",
    "    & x.strike.between(x.SPX_open*(1-strike_window),x.SPX_open*(1+strike_window))\n",
    "]"
   ]
  },
  {
   "cell_type": "code",
   "execution_count": 6,
   "id": "c03aeb38-986f-480b-a7f6-94be24821aa8",
   "metadata": {},
   "outputs": [
    {
     "name": "stdout",
     "output_type": "stream",
     "text": [
      "CPU times: user 1min 26s, sys: 114 ms, total: 1min 27s\n",
      "Wall time: 1min 27s\n"
     ]
    }
   ],
   "source": [
    "%%time\n",
    "spx_iv = oc_2024_filtered.apply(\n",
    "    lambda x: implied_vol(\n",
    "        x.open,\n",
    "        x.SPX_open,\n",
    "        x.strike,\n",
    "        x.bs_time,\n",
    "        x.DGS1MO,\n",
    "        x.option_type\n",
    "    ),axis = 1\n",
    ")"
   ]
  },
  {
   "cell_type": "markdown",
   "id": "5bb30740-6d90-4bba-90ff-48874ff4c159",
   "metadata": {},
   "source": [
    "## For all years"
   ]
  },
  {
   "cell_type": "code",
   "execution_count": 14,
   "id": "6cf67aa4-bc66-49a5-b044-9387f244c18b",
   "metadata": {},
   "outputs": [
    {
     "name": "stderr",
     "output_type": "stream",
     "text": [
      "[Parallel(n_jobs=4)]: Using backend LokyBackend with 4 concurrent workers.\n",
      "/Users/dwynne891/opt/anaconda3/lib/python3.9/site-packages/joblib/externals/loky/process_executor.py:700: UserWarning: A worker stopped while some jobs were given to the executor. This can be caused by a too short worker timeout or by a memory leak.\n",
      "  warnings.warn(\n",
      "/Users/dwynne891/opt/anaconda3/lib/python3.9/site-packages/joblib/externals/loky/process_executor.py:700: UserWarning: A worker stopped while some jobs were given to the executor. This can be caused by a too short worker timeout or by a memory leak.\n",
      "  warnings.warn(\n",
      "/Users/dwynne891/opt/anaconda3/lib/python3.9/site-packages/joblib/externals/loky/process_executor.py:700: UserWarning: A worker stopped while some jobs were given to the executor. This can be caused by a too short worker timeout or by a memory leak.\n",
      "  warnings.warn(\n",
      "[Parallel(n_jobs=4)]: Done   9 out of  13 | elapsed: 86.3min remaining: 38.3min\n"
     ]
    },
    {
     "name": "stdout",
     "output_type": "stream",
     "text": [
      "CPU times: user 517 ms, sys: 588 ms, total: 1.11 s\n",
      "Wall time: 2h 44min 23s\n"
     ]
    },
    {
     "name": "stderr",
     "output_type": "stream",
     "text": [
      "[Parallel(n_jobs=4)]: Done  13 out of  13 | elapsed: 164.4min finished\n"
     ]
    }
   ],
   "source": [
    "%%time\n",
    "\n",
    "max_T = 30\n",
    "strike_window = 0.05\n",
    "\n",
    "prices = pd.read_parquet('../historical_data/spx_price_history.parquet')\n",
    "\n",
    "def process_IV(y):\n",
    "    oc_temp = pd.read_parquet(f'../historical_data/spx_option_chain_historical_{y}.parquet')\n",
    "\n",
    "    oc_temp = oc_temp.assign(\n",
    "        expiration = lambda x: x.expiration + np.timedelta64(975,'m'),\n",
    "        time_to_expiry = lambda x: (x.expiration - x.quote_datetime).div(np.timedelta64(1,'D')).astype(float),\n",
    "        bs_time = lambda x: x.time_to_expiry.div(365)\n",
    "    ).set_index(['quote_datetime','expiration','strike','option_type'],drop = False)\n",
    "\n",
    "    oc_temp = oc_temp.join(prices.rename(columns = {'close':'SPX_open'})[['SPX_open','DGS1MO']])\n",
    "\n",
    "    oc_temp = oc_temp.loc[\n",
    "        lambda x: x.open.gt(0)\n",
    "        & x.bs_time.gt(0)\n",
    "        & x.time_to_expiry.le(max_T)\n",
    "        & x.strike.between(x.SPX_open*(1-strike_window),x.SPX_open*(1+strike_window))\n",
    "    ]\n",
    "    \n",
    "    oc_out = oc_temp.apply(\n",
    "        lambda x: implied_vol(x.open,x.SPX_open,x.strike,x.bs_time,0.05,x.option_type),\n",
    "        axis = 1\n",
    "    )\n",
    "    \n",
    "    oc_out.rename('IV').to_frame().to_parquet(f'../historical_data/spx_iv_{y}_backup_30d.parquet')\n",
    "    \n",
    "    return oc_out\n",
    "\n",
    "IV_dict = Parallel(n_jobs=4,verbose = 5)(delayed(process_IV)(i) for i in range(2012,2025))"
   ]
  },
  {
   "cell_type": "code",
   "execution_count": null,
   "id": "566939c3-0067-4fac-bde6-2c01dd4d7ad7",
   "metadata": {},
   "outputs": [],
   "source": [
    "iv = pd.concat(\n",
    "    [pd.read_parquet(f'../historical_data/{i}') for i in os.listdir(f'../historical_data/') if 'backup_30d.parquet' in i]\n",
    ")\n",
    "\n",
    "iv = iv.groupby(iv.index.names).mean()\n",
    "\n",
    "iv.to_parquet('../historical_data/spx_iv_all_30d.parquet')"
   ]
  },
  {
   "cell_type": "markdown",
   "id": "670a8cf6-9383-48e7-8c5d-e4eeae7a500d",
   "metadata": {},
   "source": [
    "## Save IV series"
   ]
  },
  {
   "cell_type": "code",
   "execution_count": 175,
   "id": "2da4d3b9-113b-49f7-95c4-a6202f9960f6",
   "metadata": {},
   "outputs": [
    {
     "name": "stderr",
     "output_type": "stream",
     "text": [
      "[Parallel(n_jobs=4)]: Using backend LokyBackend with 4 concurrent workers.\n"
     ]
    },
    {
     "name": "stdout",
     "output_type": "stream",
     "text": [
      "Loading 2012 data...Loading 2013 data...\n",
      "\n",
      "Loading 2014 data...Loading 2015 data...\n",
      "\n",
      "Transforming 2012 data...\n",
      "Transforming 2013 data...\n",
      "Transforming 2014 data...\n",
      "Transforming 2015 data...\n",
      "Loading 2016 data...\n",
      "Transforming 2016 data...\n",
      "Loading 2017 data...\n",
      "Transforming 2017 data...\n",
      "Loading 2018 data...\n",
      "Transforming 2018 data...\n",
      "Loading 2019 data...\n",
      "Transforming 2019 data...\n",
      "Loading 2020 data...\n",
      "Transforming 2020 data...\n"
     ]
    },
    {
     "name": "stderr",
     "output_type": "stream",
     "text": [
      "/Users/dwynne891/opt/anaconda3/lib/python3.9/site-packages/joblib/externals/loky/process_executor.py:700: UserWarning: A worker stopped while some jobs were given to the executor. This can be caused by a too short worker timeout or by a memory leak.\n",
      "  warnings.warn(\n"
     ]
    },
    {
     "name": "stdout",
     "output_type": "stream",
     "text": [
      "Loading 2021 data...\n",
      "Transforming 2021 data...\n"
     ]
    },
    {
     "name": "stderr",
     "output_type": "stream",
     "text": [
      "/Users/dwynne891/opt/anaconda3/lib/python3.9/site-packages/joblib/externals/loky/process_executor.py:700: UserWarning: A worker stopped while some jobs were given to the executor. This can be caused by a too short worker timeout or by a memory leak.\n",
      "  warnings.warn(\n"
     ]
    },
    {
     "name": "stdout",
     "output_type": "stream",
     "text": [
      "Loading 2022 data...\n",
      "Transforming 2022 data...\n",
      "Loading 2023 data...\n",
      "Transforming 2023 data...\n"
     ]
    },
    {
     "name": "stderr",
     "output_type": "stream",
     "text": [
      "[Parallel(n_jobs=4)]: Done   9 out of  13 | elapsed:  2.3min remaining:  1.0min\n"
     ]
    },
    {
     "name": "stdout",
     "output_type": "stream",
     "text": [
      "Loading 2024 data...\n",
      "Transforming 2024 data...\n"
     ]
    },
    {
     "name": "stderr",
     "output_type": "stream",
     "text": [
      "[Parallel(n_jobs=4)]: Done  13 out of  13 | elapsed:  3.2min finished\n"
     ]
    }
   ],
   "source": [
    "iv = pd.read_parquet('../historical_data/spx_iv_all_30d.parquet')\n",
    "\n",
    "def IV_transform(y):\n",
    "    print(f'Loading {y} data...')\n",
    "    prices = pd.read_parquet('../historical_data/spx_price_history.parquet')\n",
    "    oc_temp = pd.read_parquet(\n",
    "        f'../historical_data/spx_option_chain_historical_{y}.parquet',\n",
    "        columns = ['quote_datetime','expiration','option_type','strike','open'],\n",
    "        filters=[\n",
    "            ('root','==','SPXW'),\n",
    "            ('strike','>',prices.where(lambda x: x.quote_datetime.dt.year==y).open.min()*.95),\n",
    "            ('strike','<',prices.where(lambda x: x.quote_datetime.dt.year==y).open.max()*1.05)\n",
    "        ]\n",
    "    )\n",
    "    print(f'Transforming {y} data...')\n",
    "    \n",
    "    oc_temp = oc_temp.assign(\n",
    "        expiration = lambda x: pd.to_datetime(x.expiration) + np.timedelta64(975,'m'),\n",
    "        days_to_expiry = lambda x: np.floor(\n",
    "            (x.expiration.dt.date - x.quote_datetime.dt.date).div(np.timedelta64(1,'D'))\n",
    "        ).astype(int)\n",
    "    ).set_index(\n",
    "        ['quote_datetime','expiration','option_type']\n",
    "    ).set_index('strike',append = True,drop = False)\n",
    "    \n",
    "    oc_temp = oc_temp.join(prices.rename(columns = {'close':'SPX_open'})[['SPX_open','DGS1MO']])\n",
    "    \n",
    "    oc_temp = oc_temp.assign(\n",
    "        strike_distance = lambda x: abs(x.strike - x.SPX_open)\n",
    "    )\n",
    "    \n",
    "    strike_dist_min_idx = oc_temp.groupby(['quote_datetime','expiration','option_type']).strike_distance.idxmin()\n",
    "    \n",
    "    oc_temp = oc_temp.loc[strike_dist_min_idx]\n",
    "    \n",
    "    oc_temp = oc_temp.join(iv,how='inner')\n",
    "\n",
    "    print(f'{y} complete')\n",
    "    return oc_temp\n",
    "    \n",
    "IV_dict = Parallel(\n",
    "    n_jobs=4,\n",
    "    verbose = 5\n",
    ")(delayed(IV_transform)(i) for i in range(2012,2025))"
   ]
  },
  {
   "cell_type": "code",
   "execution_count": 179,
   "id": "693136ea-2f4f-42df-9386-12147c8bf08c",
   "metadata": {},
   "outputs": [],
   "source": [
    "iv_timeseries = pd.concat(IV_dict).droplevel(\n",
    "    ['expiration','strike','Date']\n",
    ").set_index('days_to_expiry',append = True)[['IV']].unstack('days_to_expiry')"
   ]
  },
  {
   "cell_type": "code",
   "execution_count": 180,
   "id": "5ce665ce-851a-4a4d-8df2-b5595161c603",
   "metadata": {},
   "outputs": [],
   "source": [
    "iv_timeseries.to_parquet('../historical_data/iv_timeseries.parquet')"
   ]
  },
  {
   "cell_type": "code",
   "execution_count": 210,
   "id": "374d8ef8-8530-4d7e-8879-cccbeb195cfd",
   "metadata": {},
   "outputs": [
    {
     "data": {
      "text/plain": [
       "array([0.24189978])"
      ]
     },
     "execution_count": 210,
     "metadata": {},
     "output_type": "execute_result"
    }
   ],
   "source": [
    "iv_timeseries.iloc[1,:].dropna().values"
   ]
  },
  {
   "cell_type": "code",
   "execution_count": 230,
   "id": "bafea8a6-78bd-4667-ad05-48bcb20664ff",
   "metadata": {},
   "outputs": [],
   "source": [
    "collapse_dict = dict()\n",
    "for i in iv_timeseries.index:\n",
    "    values = iv_timeseries.loc[i,:].dropna().values\n",
    "    values = np.append(values,[np.nan]*(30-len(values)))\n",
    "    collapse_dict[i] = values"
   ]
  },
  {
   "cell_type": "code",
   "execution_count": 237,
   "id": "48617de8-e9e4-47e3-900f-5ee52066dbad",
   "metadata": {},
   "outputs": [
    {
     "data": {
      "text/html": [
       "<div>\n",
       "<style scoped>\n",
       "    .dataframe tbody tr th:only-of-type {\n",
       "        vertical-align: middle;\n",
       "    }\n",
       "\n",
       "    .dataframe tbody tr th {\n",
       "        vertical-align: top;\n",
       "    }\n",
       "\n",
       "    .dataframe thead tr th {\n",
       "        text-align: left;\n",
       "    }\n",
       "\n",
       "    .dataframe thead tr:last-of-type th {\n",
       "        text-align: right;\n",
       "    }\n",
       "</style>\n",
       "<table border=\"1\" class=\"dataframe\">\n",
       "  <thead>\n",
       "    <tr>\n",
       "      <th></th>\n",
       "      <th></th>\n",
       "      <th colspan=\"21\" halign=\"left\">IV</th>\n",
       "    </tr>\n",
       "    <tr>\n",
       "      <th></th>\n",
       "      <th>days_to_expiry</th>\n",
       "      <th>0</th>\n",
       "      <th>1</th>\n",
       "      <th>2</th>\n",
       "      <th>3</th>\n",
       "      <th>4</th>\n",
       "      <th>5</th>\n",
       "      <th>6</th>\n",
       "      <th>7</th>\n",
       "      <th>8</th>\n",
       "      <th>9</th>\n",
       "      <th>...</th>\n",
       "      <th>21</th>\n",
       "      <th>22</th>\n",
       "      <th>23</th>\n",
       "      <th>24</th>\n",
       "      <th>25</th>\n",
       "      <th>26</th>\n",
       "      <th>27</th>\n",
       "      <th>28</th>\n",
       "      <th>29</th>\n",
       "      <th>30</th>\n",
       "    </tr>\n",
       "    <tr>\n",
       "      <th>quote_datetime</th>\n",
       "      <th>option_type</th>\n",
       "      <th></th>\n",
       "      <th></th>\n",
       "      <th></th>\n",
       "      <th></th>\n",
       "      <th></th>\n",
       "      <th></th>\n",
       "      <th></th>\n",
       "      <th></th>\n",
       "      <th></th>\n",
       "      <th></th>\n",
       "      <th></th>\n",
       "      <th></th>\n",
       "      <th></th>\n",
       "      <th></th>\n",
       "      <th></th>\n",
       "      <th></th>\n",
       "      <th></th>\n",
       "      <th></th>\n",
       "      <th></th>\n",
       "      <th></th>\n",
       "      <th></th>\n",
       "    </tr>\n",
       "  </thead>\n",
       "  <tbody>\n",
       "    <tr>\n",
       "      <th rowspan=\"2\" valign=\"top\">2012-01-03 10:30:00</th>\n",
       "      <th>C</th>\n",
       "      <td>NaN</td>\n",
       "      <td>NaN</td>\n",
       "      <td>NaN</td>\n",
       "      <td>0.162501</td>\n",
       "      <td>NaN</td>\n",
       "      <td>NaN</td>\n",
       "      <td>NaN</td>\n",
       "      <td>NaN</td>\n",
       "      <td>NaN</td>\n",
       "      <td>NaN</td>\n",
       "      <td>...</td>\n",
       "      <td>NaN</td>\n",
       "      <td>NaN</td>\n",
       "      <td>NaN</td>\n",
       "      <td>NaN</td>\n",
       "      <td>NaN</td>\n",
       "      <td>NaN</td>\n",
       "      <td>NaN</td>\n",
       "      <td>NaN</td>\n",
       "      <td>NaN</td>\n",
       "      <td>NaN</td>\n",
       "    </tr>\n",
       "    <tr>\n",
       "      <th>P</th>\n",
       "      <td>NaN</td>\n",
       "      <td>NaN</td>\n",
       "      <td>NaN</td>\n",
       "      <td>0.241900</td>\n",
       "      <td>NaN</td>\n",
       "      <td>NaN</td>\n",
       "      <td>NaN</td>\n",
       "      <td>NaN</td>\n",
       "      <td>NaN</td>\n",
       "      <td>NaN</td>\n",
       "      <td>...</td>\n",
       "      <td>NaN</td>\n",
       "      <td>NaN</td>\n",
       "      <td>NaN</td>\n",
       "      <td>NaN</td>\n",
       "      <td>NaN</td>\n",
       "      <td>NaN</td>\n",
       "      <td>NaN</td>\n",
       "      <td>NaN</td>\n",
       "      <td>NaN</td>\n",
       "      <td>NaN</td>\n",
       "    </tr>\n",
       "    <tr>\n",
       "      <th rowspan=\"2\" valign=\"top\">2012-01-03 11:30:00</th>\n",
       "      <th>C</th>\n",
       "      <td>NaN</td>\n",
       "      <td>NaN</td>\n",
       "      <td>NaN</td>\n",
       "      <td>0.198116</td>\n",
       "      <td>NaN</td>\n",
       "      <td>NaN</td>\n",
       "      <td>NaN</td>\n",
       "      <td>NaN</td>\n",
       "      <td>NaN</td>\n",
       "      <td>NaN</td>\n",
       "      <td>...</td>\n",
       "      <td>NaN</td>\n",
       "      <td>NaN</td>\n",
       "      <td>NaN</td>\n",
       "      <td>NaN</td>\n",
       "      <td>NaN</td>\n",
       "      <td>NaN</td>\n",
       "      <td>NaN</td>\n",
       "      <td>NaN</td>\n",
       "      <td>NaN</td>\n",
       "      <td>NaN</td>\n",
       "    </tr>\n",
       "    <tr>\n",
       "      <th>P</th>\n",
       "      <td>NaN</td>\n",
       "      <td>NaN</td>\n",
       "      <td>NaN</td>\n",
       "      <td>0.211975</td>\n",
       "      <td>NaN</td>\n",
       "      <td>NaN</td>\n",
       "      <td>NaN</td>\n",
       "      <td>NaN</td>\n",
       "      <td>NaN</td>\n",
       "      <td>NaN</td>\n",
       "      <td>...</td>\n",
       "      <td>NaN</td>\n",
       "      <td>NaN</td>\n",
       "      <td>NaN</td>\n",
       "      <td>NaN</td>\n",
       "      <td>NaN</td>\n",
       "      <td>NaN</td>\n",
       "      <td>NaN</td>\n",
       "      <td>NaN</td>\n",
       "      <td>NaN</td>\n",
       "      <td>NaN</td>\n",
       "    </tr>\n",
       "    <tr>\n",
       "      <th>2012-01-03 12:30:00</th>\n",
       "      <th>C</th>\n",
       "      <td>NaN</td>\n",
       "      <td>NaN</td>\n",
       "      <td>NaN</td>\n",
       "      <td>0.218104</td>\n",
       "      <td>NaN</td>\n",
       "      <td>NaN</td>\n",
       "      <td>NaN</td>\n",
       "      <td>NaN</td>\n",
       "      <td>NaN</td>\n",
       "      <td>NaN</td>\n",
       "      <td>...</td>\n",
       "      <td>NaN</td>\n",
       "      <td>NaN</td>\n",
       "      <td>NaN</td>\n",
       "      <td>NaN</td>\n",
       "      <td>NaN</td>\n",
       "      <td>NaN</td>\n",
       "      <td>NaN</td>\n",
       "      <td>NaN</td>\n",
       "      <td>NaN</td>\n",
       "      <td>NaN</td>\n",
       "    </tr>\n",
       "    <tr>\n",
       "      <th>...</th>\n",
       "      <th>...</th>\n",
       "      <td>...</td>\n",
       "      <td>...</td>\n",
       "      <td>...</td>\n",
       "      <td>...</td>\n",
       "      <td>...</td>\n",
       "      <td>...</td>\n",
       "      <td>...</td>\n",
       "      <td>...</td>\n",
       "      <td>...</td>\n",
       "      <td>...</td>\n",
       "      <td>...</td>\n",
       "      <td>...</td>\n",
       "      <td>...</td>\n",
       "      <td>...</td>\n",
       "      <td>...</td>\n",
       "      <td>...</td>\n",
       "      <td>...</td>\n",
       "      <td>...</td>\n",
       "      <td>...</td>\n",
       "      <td>...</td>\n",
       "      <td>...</td>\n",
       "    </tr>\n",
       "    <tr>\n",
       "      <th>2024-01-12 14:30:00</th>\n",
       "      <th>P</th>\n",
       "      <td>0.272338</td>\n",
       "      <td>NaN</td>\n",
       "      <td>NaN</td>\n",
       "      <td>NaN</td>\n",
       "      <td>0.081697</td>\n",
       "      <td>0.094820</td>\n",
       "      <td>0.091994</td>\n",
       "      <td>0.092068</td>\n",
       "      <td>NaN</td>\n",
       "      <td>NaN</td>\n",
       "      <td>...</td>\n",
       "      <td>0.107764</td>\n",
       "      <td>NaN</td>\n",
       "      <td>NaN</td>\n",
       "      <td>NaN</td>\n",
       "      <td>0.104286</td>\n",
       "      <td>NaN</td>\n",
       "      <td>NaN</td>\n",
       "      <td>NaN</td>\n",
       "      <td>NaN</td>\n",
       "      <td>NaN</td>\n",
       "    </tr>\n",
       "    <tr>\n",
       "      <th rowspan=\"2\" valign=\"top\">2024-01-12 15:30:00</th>\n",
       "      <th>C</th>\n",
       "      <td>0.495551</td>\n",
       "      <td>NaN</td>\n",
       "      <td>NaN</td>\n",
       "      <td>NaN</td>\n",
       "      <td>0.078661</td>\n",
       "      <td>0.085461</td>\n",
       "      <td>0.088451</td>\n",
       "      <td>0.096047</td>\n",
       "      <td>NaN</td>\n",
       "      <td>NaN</td>\n",
       "      <td>...</td>\n",
       "      <td>0.110545</td>\n",
       "      <td>NaN</td>\n",
       "      <td>NaN</td>\n",
       "      <td>NaN</td>\n",
       "      <td>0.101651</td>\n",
       "      <td>NaN</td>\n",
       "      <td>NaN</td>\n",
       "      <td>0.108888</td>\n",
       "      <td>NaN</td>\n",
       "      <td>NaN</td>\n",
       "    </tr>\n",
       "    <tr>\n",
       "      <th>P</th>\n",
       "      <td>0.083288</td>\n",
       "      <td>NaN</td>\n",
       "      <td>NaN</td>\n",
       "      <td>NaN</td>\n",
       "      <td>0.053583</td>\n",
       "      <td>0.067945</td>\n",
       "      <td>0.073362</td>\n",
       "      <td>0.076520</td>\n",
       "      <td>NaN</td>\n",
       "      <td>NaN</td>\n",
       "      <td>...</td>\n",
       "      <td>0.107273</td>\n",
       "      <td>NaN</td>\n",
       "      <td>NaN</td>\n",
       "      <td>NaN</td>\n",
       "      <td>0.109288</td>\n",
       "      <td>NaN</td>\n",
       "      <td>NaN</td>\n",
       "      <td>0.106463</td>\n",
       "      <td>NaN</td>\n",
       "      <td>NaN</td>\n",
       "    </tr>\n",
       "    <tr>\n",
       "      <th rowspan=\"2\" valign=\"top\">2024-01-12 16:15:00</th>\n",
       "      <th>C</th>\n",
       "      <td>NaN</td>\n",
       "      <td>NaN</td>\n",
       "      <td>NaN</td>\n",
       "      <td>NaN</td>\n",
       "      <td>0.043830</td>\n",
       "      <td>0.061174</td>\n",
       "      <td>0.074346</td>\n",
       "      <td>0.077200</td>\n",
       "      <td>NaN</td>\n",
       "      <td>NaN</td>\n",
       "      <td>...</td>\n",
       "      <td>0.100641</td>\n",
       "      <td>NaN</td>\n",
       "      <td>NaN</td>\n",
       "      <td>NaN</td>\n",
       "      <td>NaN</td>\n",
       "      <td>NaN</td>\n",
       "      <td>NaN</td>\n",
       "      <td>0.099659</td>\n",
       "      <td>NaN</td>\n",
       "      <td>NaN</td>\n",
       "    </tr>\n",
       "    <tr>\n",
       "      <th>P</th>\n",
       "      <td>NaN</td>\n",
       "      <td>NaN</td>\n",
       "      <td>NaN</td>\n",
       "      <td>NaN</td>\n",
       "      <td>0.080371</td>\n",
       "      <td>0.086129</td>\n",
       "      <td>0.095475</td>\n",
       "      <td>0.092981</td>\n",
       "      <td>NaN</td>\n",
       "      <td>NaN</td>\n",
       "      <td>...</td>\n",
       "      <td>0.111209</td>\n",
       "      <td>NaN</td>\n",
       "      <td>NaN</td>\n",
       "      <td>NaN</td>\n",
       "      <td>NaN</td>\n",
       "      <td>NaN</td>\n",
       "      <td>NaN</td>\n",
       "      <td>0.109854</td>\n",
       "      <td>NaN</td>\n",
       "      <td>NaN</td>\n",
       "    </tr>\n",
       "  </tbody>\n",
       "</table>\n",
       "<p>41805 rows × 31 columns</p>\n",
       "</div>"
      ],
      "text/plain": [
       "                                       IV                              \\\n",
       "days_to_expiry                         0   1   2         3         4    \n",
       "quote_datetime      option_type                                         \n",
       "2012-01-03 10:30:00 C                 NaN NaN NaN  0.162501       NaN   \n",
       "                    P                 NaN NaN NaN  0.241900       NaN   \n",
       "2012-01-03 11:30:00 C                 NaN NaN NaN  0.198116       NaN   \n",
       "                    P                 NaN NaN NaN  0.211975       NaN   \n",
       "2012-01-03 12:30:00 C                 NaN NaN NaN  0.218104       NaN   \n",
       "...                                   ...  ..  ..       ...       ...   \n",
       "2024-01-12 14:30:00 P            0.272338 NaN NaN       NaN  0.081697   \n",
       "2024-01-12 15:30:00 C            0.495551 NaN NaN       NaN  0.078661   \n",
       "                    P            0.083288 NaN NaN       NaN  0.053583   \n",
       "2024-01-12 16:15:00 C                 NaN NaN NaN       NaN  0.043830   \n",
       "                    P                 NaN NaN NaN       NaN  0.080371   \n",
       "\n",
       "                                                                       ...  \\\n",
       "days_to_expiry                         5         6         7   8   9   ...   \n",
       "quote_datetime      option_type                                        ...   \n",
       "2012-01-03 10:30:00 C                 NaN       NaN       NaN NaN NaN  ...   \n",
       "                    P                 NaN       NaN       NaN NaN NaN  ...   \n",
       "2012-01-03 11:30:00 C                 NaN       NaN       NaN NaN NaN  ...   \n",
       "                    P                 NaN       NaN       NaN NaN NaN  ...   \n",
       "2012-01-03 12:30:00 C                 NaN       NaN       NaN NaN NaN  ...   \n",
       "...                                   ...       ...       ...  ..  ..  ...   \n",
       "2024-01-12 14:30:00 P            0.094820  0.091994  0.092068 NaN NaN  ...   \n",
       "2024-01-12 15:30:00 C            0.085461  0.088451  0.096047 NaN NaN  ...   \n",
       "                    P            0.067945  0.073362  0.076520 NaN NaN  ...   \n",
       "2024-01-12 16:15:00 C            0.061174  0.074346  0.077200 NaN NaN  ...   \n",
       "                    P            0.086129  0.095475  0.092981 NaN NaN  ...   \n",
       "\n",
       "                                                                         \\\n",
       "days_to_expiry                         21  22  23  24        25  26  27   \n",
       "quote_datetime      option_type                                           \n",
       "2012-01-03 10:30:00 C                 NaN NaN NaN NaN       NaN NaN NaN   \n",
       "                    P                 NaN NaN NaN NaN       NaN NaN NaN   \n",
       "2012-01-03 11:30:00 C                 NaN NaN NaN NaN       NaN NaN NaN   \n",
       "                    P                 NaN NaN NaN NaN       NaN NaN NaN   \n",
       "2012-01-03 12:30:00 C                 NaN NaN NaN NaN       NaN NaN NaN   \n",
       "...                                   ...  ..  ..  ..       ...  ..  ..   \n",
       "2024-01-12 14:30:00 P            0.107764 NaN NaN NaN  0.104286 NaN NaN   \n",
       "2024-01-12 15:30:00 C            0.110545 NaN NaN NaN  0.101651 NaN NaN   \n",
       "                    P            0.107273 NaN NaN NaN  0.109288 NaN NaN   \n",
       "2024-01-12 16:15:00 C            0.100641 NaN NaN NaN       NaN NaN NaN   \n",
       "                    P            0.111209 NaN NaN NaN       NaN NaN NaN   \n",
       "\n",
       "                                                   \n",
       "days_to_expiry                         28  29  30  \n",
       "quote_datetime      option_type                    \n",
       "2012-01-03 10:30:00 C                 NaN NaN NaN  \n",
       "                    P                 NaN NaN NaN  \n",
       "2012-01-03 11:30:00 C                 NaN NaN NaN  \n",
       "                    P                 NaN NaN NaN  \n",
       "2012-01-03 12:30:00 C                 NaN NaN NaN  \n",
       "...                                   ...  ..  ..  \n",
       "2024-01-12 14:30:00 P                 NaN NaN NaN  \n",
       "2024-01-12 15:30:00 C            0.108888 NaN NaN  \n",
       "                    P            0.106463 NaN NaN  \n",
       "2024-01-12 16:15:00 C            0.099659 NaN NaN  \n",
       "                    P            0.109854 NaN NaN  \n",
       "\n",
       "[41805 rows x 31 columns]"
      ]
     },
     "execution_count": 237,
     "metadata": {},
     "output_type": "execute_result"
    }
   ],
   "source": [
    "iv_timeseries"
   ]
  },
  {
   "cell_type": "code",
   "execution_count": 235,
   "id": "4b2afc36-0801-4fd0-a2f9-7d24a1def99a",
   "metadata": {},
   "outputs": [],
   "source": [
    "iv_timeseries_trading_days = pd.DataFrame.from_dict(collapse_dict,orient = 'index')"
   ]
  },
  {
   "cell_type": "code",
   "execution_count": 239,
   "id": "987eb141-3883-4851-a83e-06694c7b9e3e",
   "metadata": {},
   "outputs": [],
   "source": [
    "iv_timeseries_trading_days.index = pd.MultiIndex.from_tuples(\n",
    "    iv_timeseries_trading_days.index,\n",
    "    names=['quote_datetime','option_type']\n",
    ")"
   ]
  },
  {
   "cell_type": "code",
   "execution_count": 251,
   "id": "b95d32ee-2fbf-4f62-8b34-6d93630a4038",
   "metadata": {},
   "outputs": [],
   "source": [
    "iv_timeseries_trading_days = iv_timeseries_trading_days.rename(columns = lambda x: f'IV_{x}')"
   ]
  },
  {
   "cell_type": "code",
   "execution_count": 254,
   "id": "428f49ab-2e30-47e4-9146-050360106834",
   "metadata": {},
   "outputs": [],
   "source": [
    "iv_timeseries_trading_days.to_parquet('../historical_data/iv_timeseries_trading_days.parquet')"
   ]
  },
  {
   "cell_type": "code",
   "execution_count": null,
   "id": "08a56e07-4e9a-4fc1-a9f4-e292d18d06e6",
   "metadata": {},
   "outputs": [],
   "source": []
  }
 ],
 "metadata": {
  "kernelspec": {
   "display_name": "Python 3 (ipykernel)",
   "language": "python",
   "name": "python3"
  },
  "language_info": {
   "codemirror_mode": {
    "name": "ipython",
    "version": 3
   },
   "file_extension": ".py",
   "mimetype": "text/x-python",
   "name": "python",
   "nbconvert_exporter": "python",
   "pygments_lexer": "ipython3",
   "version": "3.9.18"
  },
  "toc-autonumbering": true
 },
 "nbformat": 4,
 "nbformat_minor": 5
}
